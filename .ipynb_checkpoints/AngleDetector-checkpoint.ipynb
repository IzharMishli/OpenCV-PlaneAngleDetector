{
 "cells": [
  {
   "cell_type": "code",
   "execution_count": 48,
   "metadata": {},
   "outputs": [],
   "source": [
    "import cv2\n",
    "import numpy as np\n",
    "import math\n",
    "import time\n",
    "import matplotlib.pyplot as plt\n",
    "%matplotlib inline\n",
    "from sklearn.linear_model import LinearRegression"
   ]
  },
  {
   "cell_type": "code",
   "execution_count": null,
   "metadata": {},
   "outputs": [],
   "source": []
  },
  {
   "cell_type": "code",
   "execution_count": 103,
   "metadata": {},
   "outputs": [],
   "source": [
    "def paintLine(frame, x1,y1,x2,y2):\n",
    "    lined_frame = cv2.line(frame,(x1,y1), (x2,y2), (255,0,0), 10)\n",
    "    line_ang = CalculeAng(x1,y1,x2,y2)\n",
    "    frame_with_ang = WriteAng(lined_frame, line_ang)\n",
    "    return frame_with_ang"
   ]
  },
  {
   "cell_type": "code",
   "execution_count": 112,
   "metadata": {},
   "outputs": [],
   "source": [
    "def CalculeAng(x1,y1,x2,y2):\n",
    "    ang = math.atan2(x2-x1,y2-y1)\n",
    "    pi = math.pi\n",
    "    deg_ang = (ang*180)/pi-90\n",
    "    return deg_ang"
   ]
  },
  {
   "cell_type": "code",
   "execution_count": 105,
   "metadata": {},
   "outputs": [],
   "source": [
    "def WriteAng(frame, ang):\n",
    "    font = cv2.FONT_HERSHEY_SIMPLEX\n",
    "    ang_frame = cv2.putText(frame, str(ang), org=(100,100), fontFace=font, fontScale = 2, color=(255,255,255), thickness=3, lineType=cv2.LINE_AA)\n",
    "    return ang_frame"
   ]
  },
  {
   "cell_type": "code",
   "execution_count": 13,
   "metadata": {},
   "outputs": [],
   "source": [
    "def edgeDet(frame):\n",
    "    med_val = np.median(frame)\n",
    "    upper = int(min(255,1.3*med_val))\n",
    "    lower = int(max(0,0.7*med_val))\n",
    "    edged_frame = cv2.Canny(image=blurred_frame,threshold1=lower-50, threshold2=upper-150)\n",
    "    return edged_frame"
   ]
  },
  {
   "cell_type": "code",
   "execution_count": 14,
   "metadata": {},
   "outputs": [],
   "source": [
    "def ResizeWithAspectRatio(image, width=None, height=None, inter=cv2.INTER_AREA):\n",
    "    dim = None\n",
    "    (h, w) = image.shape[:2]\n",
    "\n",
    "    if width is None and height is None:\n",
    "        return image\n",
    "    if width is None:\n",
    "        r = height / float(h)\n",
    "        dim = (int(w * r), height)\n",
    "    else:\n",
    "        r = width / float(w)\n",
    "        dim = (width, int(h * r))\n",
    "\n",
    "    return cv2.resize(image, dim, interpolation=inter)"
   ]
  },
  {
   "cell_type": "code",
   "execution_count": 228,
   "metadata": {},
   "outputs": [],
   "source": [
    "def find_centroids(dst):\n",
    "    ret, dst = cv2.threshold(dst,125, 255, cv2.THRESH_BINARY)\n",
    "    dst = np.uint8(dst)\n",
    "\n",
    "    # find centroids\n",
    "    ret, labels, stats, centroids = cv2.connectedComponentsWithStats(dst)\n",
    "    # define the criteria to stop and refine the corners\n",
    "    criteria = (cv2.TERM_CRITERIA_EPS + cv2.TERM_CRITERIA_MAX_ITER, 100, \n",
    "                0.001)\n",
    "    corners = cv2.cornerSubPix(gray,np.float32(centroids),(5,5), \n",
    "              (-1,-1),criteria)\n",
    "    return corners"
   ]
  },
  {
   "cell_type": "code",
   "execution_count": 241,
   "metadata": {},
   "outputs": [],
   "source": [
    "cap = cv2.VideoCapture('PilotView.mp4')\n",
    "if cap.isOpened() == False:\n",
    "    print('Error file not found')\n",
    "while cap.isOpened():\n",
    "    ret,frame = cap.read()\n",
    "\n",
    "    if ret == True:\n",
    "        #WRITER 20 FPS\n",
    "        time.sleep(1/100)\n",
    "        blurred_frame = cv2.blur(frame,ksize=(7,7))\n",
    "        gray = cv2.cvtColor(blurred_frame, cv2.COLOR_RGB2GRAY)\n",
    "        thresh, bw_frame = cv2.threshold(gray, 175, 255, cv2.THRESH_BINARY)\n",
    "        \n",
    "        gray = np.float32(bw_frame)\n",
    "        dst = cv2.cornerHarris(gray,20,1,0.1)\n",
    "        dst = cv2.dilate(dst,None)\n",
    "        corners = find_centroids(dst)\n",
    "        splitted = np.hsplit(corners,2)\n",
    "        x = splitted[0]\n",
    "        y = splitted[1]\n",
    "        medY = np.mean(y)+150\n",
    "        #fixed_corners = corners.copy()\n",
    "        fixed_corners = np.empty((0,2), dtype=int)\n",
    "        \n",
    "        i = 0\n",
    "        #delete bad corners\n",
    "        for corner in corners:\n",
    "            #dst[int(corner[1]), int(corner[0])] = [255,0,0]\n",
    "            if ((corner[1] > medY + 150) or (corner[1] < medY - 150)):\n",
    "                #fixed_corners = np.delete(fixed_corners, i,0)\n",
    "                i+=1\n",
    "                continue\n",
    "            temp1 = corner[0]\n",
    "            temp2 = corner[1]\n",
    "            fixed_corners = np.append(fixed_corners,np.array([[temp1,temp2]]), 0)\n",
    "            #dst = cv2.circle(frame, (corner[0],corner[1]),10,(0,0,255),thickness=-1)\n",
    "            i += 1\n",
    "            \n",
    "            \n",
    "        for corner2 in fixed_corners:\n",
    "            tempx=corner2[0]\n",
    "            tempy=corner2[1]\n",
    "            dst = cv2.circle(frame, (int(tempx),int(tempy)),10,(0,0,255),thickness=-1)\n",
    "        splitted = np.hsplit(fixed_corners,2)\n",
    "        x = splitted[0]\n",
    "        y = splitted[1]\n",
    "        \n",
    "        model = LinearRegression().fit(x,y)\n",
    "        m = model.coef_\n",
    "        b = model.intercept_\n",
    "        x1 = 0\n",
    "        y1 = m[0][0]*x1 + b[0]\n",
    "        x2 = dst.shape[1]\n",
    "        y2 = m[0][0]*x2 + b[0]\n",
    "        #final_frame = cv2.line(dst, (x1,y1), (x2, y2), (0, 0, 255),thickness=20)\n",
    "        final_frame = paintLine(dst,x1,int(y1),x2,int(y2))\n",
    "        #thresh, bw_frame = cv2.threshold(gray, 127, 255, cv2.THRESH_BINARY)\n",
    "        #edged_frame = edgeDet(bw_frame)\n",
    "        #data_frame = paintLine(edged_frame)\n",
    "        fixed_size_frame = ResizeWithAspectRatio(final_frame, width=800)\n",
    "        cv2.imshow('frameVid', fixed_size_frame)\n",
    "\n",
    "        if cv2.waitKey(10) & 0xFF ==ord('q'):\n",
    "            break\n",
    "\n",
    "    else:\n",
    "        break\n",
    "        \n",
    "cap.release()\n",
    "cv2.destroyAllWindows() \n"
   ]
  },
  {
   "cell_type": "code",
   "execution_count": null,
   "metadata": {},
   "outputs": [],
   "source": []
  },
  {
   "cell_type": "code",
   "execution_count": null,
   "metadata": {},
   "outputs": [],
   "source": []
  },
  {
   "cell_type": "code",
   "execution_count": null,
   "metadata": {},
   "outputs": [],
   "source": []
  },
  {
   "cell_type": "code",
   "execution_count": null,
   "metadata": {},
   "outputs": [],
   "source": []
  }
 ],
 "metadata": {
  "kernelspec": {
   "display_name": "Python 3",
   "language": "python",
   "name": "python3"
  },
  "language_info": {
   "codemirror_mode": {
    "name": "ipython",
    "version": 3
   },
   "file_extension": ".py",
   "mimetype": "text/x-python",
   "name": "python",
   "nbconvert_exporter": "python",
   "pygments_lexer": "ipython3",
   "version": "3.6.6"
  }
 },
 "nbformat": 4,
 "nbformat_minor": 2
}
